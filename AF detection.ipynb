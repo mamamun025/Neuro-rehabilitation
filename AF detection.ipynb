{
 "cells": [
  {
   "cell_type": "code",
   "execution_count": 15,
   "metadata": {
    "_cell_guid": "b1076dfc-b9ad-4769-8c92-a6c4dae69d19",
    "_uuid": "8f2839f25d086af736a60e9eeb907d3b93b6e0e5"
   },
   "outputs": [
    {
     "name": "stdout",
     "output_type": "stream",
     "text": [
      "2.3.1\n"
     ]
    }
   ],
   "source": [
    "# This Python 3 environment comes with many helpful analytics libraries installed\n",
    "# It is defined by the kaggle/python Docker image: https://github.com/kaggle/docker-python\n",
    "\n",
    "import numpy as np # linear algebra\n",
    "import pandas as pd # data processing, CSV file I/O (e.g. pd.read_csv)\n",
    "\n",
    "# using Seaborne for hist\n",
    "import seaborn as sns\n",
    "import matplotlib.pyplot as plt\n",
    "from sklearn.metrics import (precision_score, recall_score,\n",
    "                             f1_score, accuracy_score,mean_squared_error,mean_absolute_error)\n",
    "from sklearn import metrics\n",
    "from sklearn.preprocessing import Normalizer\n",
    "import tensorflow as tf\n",
    "from tensorflow import keras\n",
    "from tensorflow.keras import Sequential\n",
    "from tensorflow.keras.layers import Input, Conv1D, MaxPooling1D, Flatten, Dropout\n",
    "from tensorflow.keras.models import Model\n",
    "\n",
    "from sklearn.model_selection import train_test_split\n",
    "\n",
    "from numpy.random import seed\n",
    "\n",
    "sns.set(color_codes=True)\n",
    "%matplotlib inline\n",
    "\n",
    "# code for Tensorflow 2 !!!\n",
    "print(tf.__version__)\n",
    "assert(tf.__version__ >= '2.')"
   ]
  },
  {
   "cell_type": "code",
   "execution_count": 2,
   "metadata": {
    "_cell_guid": "79c7e3d0-c299-4dcb-8224-4455121ee9b0",
    "_uuid": "d629ff2d2480ee46fbb7e2d37f6b5fab8052498a"
   },
   "outputs": [
    {
     "data": {
      "text/html": [
       "<div>\n",
       "<style scoped>\n",
       "    .dataframe tbody tr th:only-of-type {\n",
       "        vertical-align: middle;\n",
       "    }\n",
       "\n",
       "    .dataframe tbody tr th {\n",
       "        vertical-align: top;\n",
       "    }\n",
       "\n",
       "    .dataframe thead th {\n",
       "        text-align: right;\n",
       "    }\n",
       "</style>\n",
       "<table border=\"1\" class=\"dataframe\">\n",
       "  <thead>\n",
       "    <tr style=\"text-align: right;\">\n",
       "      <th></th>\n",
       "      <th>0</th>\n",
       "      <th>1</th>\n",
       "      <th>2</th>\n",
       "      <th>3</th>\n",
       "      <th>4</th>\n",
       "      <th>5</th>\n",
       "      <th>6</th>\n",
       "      <th>7</th>\n",
       "      <th>8</th>\n",
       "      <th>9</th>\n",
       "      <th>...</th>\n",
       "      <th>1992</th>\n",
       "      <th>1993</th>\n",
       "      <th>1994</th>\n",
       "      <th>1995</th>\n",
       "      <th>1996</th>\n",
       "      <th>1997</th>\n",
       "      <th>1998</th>\n",
       "      <th>1999</th>\n",
       "      <th>name</th>\n",
       "      <th>label</th>\n",
       "    </tr>\n",
       "  </thead>\n",
       "  <tbody>\n",
       "    <tr>\n",
       "      <th>1457</th>\n",
       "      <td>-0.031525</td>\n",
       "      <td>-0.031525</td>\n",
       "      <td>-0.030792</td>\n",
       "      <td>-0.030792</td>\n",
       "      <td>-0.030059</td>\n",
       "      <td>-0.029326</td>\n",
       "      <td>-0.029326</td>\n",
       "      <td>-0.030059</td>\n",
       "      <td>-0.030792</td>\n",
       "      <td>-0.030792</td>\n",
       "      <td>...</td>\n",
       "      <td>0.014663</td>\n",
       "      <td>0.010997</td>\n",
       "      <td>0.005132</td>\n",
       "      <td>0.003666</td>\n",
       "      <td>0.002199</td>\n",
       "      <td>0.001466</td>\n",
       "      <td>0.000733</td>\n",
       "      <td>0.000000</td>\n",
       "      <td>A01/A01458</td>\n",
       "      <td>2</td>\n",
       "    </tr>\n",
       "    <tr>\n",
       "      <th>3078</th>\n",
       "      <td>-0.013409</td>\n",
       "      <td>-0.013409</td>\n",
       "      <td>-0.013409</td>\n",
       "      <td>-0.012703</td>\n",
       "      <td>-0.011291</td>\n",
       "      <td>-0.009880</td>\n",
       "      <td>-0.008469</td>\n",
       "      <td>-0.007057</td>\n",
       "      <td>-0.005646</td>\n",
       "      <td>-0.004234</td>\n",
       "      <td>...</td>\n",
       "      <td>-0.098095</td>\n",
       "      <td>-0.095977</td>\n",
       "      <td>-0.093860</td>\n",
       "      <td>-0.088920</td>\n",
       "      <td>-0.078335</td>\n",
       "      <td>-0.060692</td>\n",
       "      <td>-0.039520</td>\n",
       "      <td>-0.016231</td>\n",
       "      <td>A03/A03079</td>\n",
       "      <td>2</td>\n",
       "    </tr>\n",
       "    <tr>\n",
       "      <th>2118</th>\n",
       "      <td>-0.055921</td>\n",
       "      <td>-0.036184</td>\n",
       "      <td>-0.013158</td>\n",
       "      <td>0.003289</td>\n",
       "      <td>0.023026</td>\n",
       "      <td>0.039474</td>\n",
       "      <td>0.059211</td>\n",
       "      <td>0.078947</td>\n",
       "      <td>0.088816</td>\n",
       "      <td>0.092105</td>\n",
       "      <td>...</td>\n",
       "      <td>0.065789</td>\n",
       "      <td>0.052632</td>\n",
       "      <td>0.036184</td>\n",
       "      <td>0.019737</td>\n",
       "      <td>0.003289</td>\n",
       "      <td>-0.006579</td>\n",
       "      <td>-0.019737</td>\n",
       "      <td>-0.029605</td>\n",
       "      <td>A02/A02119</td>\n",
       "      <td>1</td>\n",
       "    </tr>\n",
       "    <tr>\n",
       "      <th>6983</th>\n",
       "      <td>0.026536</td>\n",
       "      <td>0.027933</td>\n",
       "      <td>0.030726</td>\n",
       "      <td>0.032123</td>\n",
       "      <td>0.032123</td>\n",
       "      <td>0.032123</td>\n",
       "      <td>0.032123</td>\n",
       "      <td>0.032123</td>\n",
       "      <td>0.030726</td>\n",
       "      <td>0.030726</td>\n",
       "      <td>...</td>\n",
       "      <td>-0.037709</td>\n",
       "      <td>-0.033520</td>\n",
       "      <td>-0.027933</td>\n",
       "      <td>-0.023743</td>\n",
       "      <td>-0.020950</td>\n",
       "      <td>-0.018156</td>\n",
       "      <td>-0.016760</td>\n",
       "      <td>-0.013966</td>\n",
       "      <td>A06/A06984</td>\n",
       "      <td>1</td>\n",
       "    </tr>\n",
       "    <tr>\n",
       "      <th>4771</th>\n",
       "      <td>0.241636</td>\n",
       "      <td>0.241636</td>\n",
       "      <td>0.241636</td>\n",
       "      <td>0.234201</td>\n",
       "      <td>0.226766</td>\n",
       "      <td>0.215613</td>\n",
       "      <td>0.200743</td>\n",
       "      <td>0.182156</td>\n",
       "      <td>0.144981</td>\n",
       "      <td>0.104089</td>\n",
       "      <td>...</td>\n",
       "      <td>-0.130112</td>\n",
       "      <td>-0.133829</td>\n",
       "      <td>-0.144981</td>\n",
       "      <td>-0.163569</td>\n",
       "      <td>-0.174721</td>\n",
       "      <td>-0.148699</td>\n",
       "      <td>-0.111524</td>\n",
       "      <td>-0.096654</td>\n",
       "      <td>A04/A04772</td>\n",
       "      <td>0</td>\n",
       "    </tr>\n",
       "  </tbody>\n",
       "</table>\n",
       "<p>5 rows × 2002 columns</p>\n",
       "</div>"
      ],
      "text/plain": [
       "             0         1         2         3         4         5         6  \\\n",
       "1457 -0.031525 -0.031525 -0.030792 -0.030792 -0.030059 -0.029326 -0.029326   \n",
       "3078 -0.013409 -0.013409 -0.013409 -0.012703 -0.011291 -0.009880 -0.008469   \n",
       "2118 -0.055921 -0.036184 -0.013158  0.003289  0.023026  0.039474  0.059211   \n",
       "6983  0.026536  0.027933  0.030726  0.032123  0.032123  0.032123  0.032123   \n",
       "4771  0.241636  0.241636  0.241636  0.234201  0.226766  0.215613  0.200743   \n",
       "\n",
       "             7         8         9  ...      1992      1993      1994  \\\n",
       "1457 -0.030059 -0.030792 -0.030792  ...  0.014663  0.010997  0.005132   \n",
       "3078 -0.007057 -0.005646 -0.004234  ... -0.098095 -0.095977 -0.093860   \n",
       "2118  0.078947  0.088816  0.092105  ...  0.065789  0.052632  0.036184   \n",
       "6983  0.032123  0.030726  0.030726  ... -0.037709 -0.033520 -0.027933   \n",
       "4771  0.182156  0.144981  0.104089  ... -0.130112 -0.133829 -0.144981   \n",
       "\n",
       "          1995      1996      1997      1998      1999        name  label  \n",
       "1457  0.003666  0.002199  0.001466  0.000733  0.000000  A01/A01458      2  \n",
       "3078 -0.088920 -0.078335 -0.060692 -0.039520 -0.016231  A03/A03079      2  \n",
       "2118  0.019737  0.003289 -0.006579 -0.019737 -0.029605  A02/A02119      1  \n",
       "6983 -0.023743 -0.020950 -0.018156 -0.016760 -0.013966  A06/A06984      1  \n",
       "4771 -0.163569 -0.174721 -0.148699 -0.111524 -0.096654  A04/A04772      0  \n",
       "\n",
       "[5 rows x 2002 columns]"
      ]
     },
     "execution_count": 2,
     "metadata": {},
     "output_type": "execute_result"
    }
   ],
   "source": [
    "FILE_NAME = \"physionet2017.csv\"\n",
    "\n",
    "data = pd.read_csv(FILE_NAME)\n",
    "\n",
    "# shuffle the dataframe before splitting\n",
    "data = data.sample(frac=1)\n",
    "\n",
    "data.head()"
   ]
  },
  {
   "cell_type": "code",
   "execution_count": 37,
   "metadata": {},
   "outputs": [],
   "source": [
    "# let's try first with binary classification (normal, not normal)\n",
    "\n",
    "#data.loc[data.label != 0, \"label\"] = 1"
   ]
  },
  {
   "cell_type": "code",
   "execution_count": 38,
   "metadata": {},
   "outputs": [],
   "source": [
    "#data['label'].hist();"
   ]
  },
  {
   "cell_type": "code",
   "execution_count": 42,
   "metadata": {},
   "outputs": [
    {
     "name": "stdout",
     "output_type": "stream",
     "text": [
      "1457    1\n",
      "3078    1\n",
      "2118    1\n",
      "6983    1\n",
      "4771    0\n",
      "       ..\n",
      "3825    1\n",
      "1294    1\n",
      "3314    0\n",
      "4041    0\n",
      "6919    1\n",
      "Name: label, Length: 8528, dtype: int64\n"
     ]
    }
   ],
   "source": [
    "X = data.iloc[:, :2000]\n",
    "Y = data.iloc[:, 2001]\n",
    "print(Y)\n"
   ]
  },
  {
   "cell_type": "code",
   "execution_count": 7,
   "metadata": {},
   "outputs": [
    {
     "name": "stdout",
     "output_type": "stream",
     "text": [
      "X_train:  (7675, 2000)\n",
      "X_valid:  (853, 2000)\n"
     ]
    }
   ],
   "source": [
    "X_train, X_valid, y_train, y_valid = train_test_split(X, Y, test_size=0.1, random_state=3)\n",
    "\n",
    "print('X_train: ', X_train.shape)\n",
    "print('X_valid: ', X_valid.shape)\n",
    "\n",
    "# need to trasnform to sort of image (2 dim tensor) for compatibility with input of CNN\n",
    "X_train = np.expand_dims(X_train, axis = 2)\n",
    "\n",
    "X_valid = np.expand_dims(X_valid, axis = 2)"
   ]
  },
  {
   "cell_type": "code",
   "execution_count": 49,
   "metadata": {},
   "outputs": [
    {
     "data": {
      "text/plain": [
       "7563    1\n",
       "7054    0\n",
       "2859    0\n",
       "1249    1\n",
       "8365    0\n",
       "       ..\n",
       "3413    0\n",
       "4798    0\n",
       "7351    0\n",
       "715     1\n",
       "6721    0\n",
       "Name: label, Length: 853, dtype: int64"
      ]
     },
     "execution_count": 49,
     "metadata": {},
     "output_type": "execute_result"
    }
   ],
   "source": [
    "y_valid.shape\n",
    "y_valid"
   ]
  },
  {
   "cell_type": "code",
   "execution_count": 43,
   "metadata": {},
   "outputs": [],
   "source": [
    "# define the model\n",
    "\n",
    "# arcitecture inspired by keras.io\n",
    "\n",
    "def build_model(input_shape):\n",
    "    # using Keras functional API\n",
    "    input_layer = keras.layers.Input(input_shape)\n",
    "\n",
    "    # kernel size changed from 3 to 5\n",
    "    conv0 = keras.layers.Conv1D(filters=32, kernel_size=5, padding=\"same\", activation = \"relu\")(input_layer)\n",
    "    # conv0 = keras.layers.BatchNormalization()(conv0)\n",
    "    conv0 = keras.layers.MaxPooling1D(pool_size=2)(conv0)\n",
    "    \n",
    "    conv1 = keras.layers.Conv1D(filters=32, kernel_size=5, padding=\"same\", activation=\"relu\")(conv0)\n",
    "    conv1 = keras.layers.MaxPooling1D(pool_size=2)(conv1)\n",
    "    \n",
    "    conv2 = keras.layers.Conv1D(filters=64, kernel_size=5, padding=\"same\", activation=\"relu\")(conv1)\n",
    "    conv2 = keras.layers.MaxPooling1D(pool_size=2)(conv2)\n",
    "    \n",
    "    conv3 = keras.layers.Conv1D(filters=64, kernel_size=5, padding=\"same\", activation=\"relu\")(conv2)\n",
    "    conv3 = keras.layers.MaxPooling1D(pool_size=2)(conv3)\n",
    "    \n",
    "    conv4 = keras.layers.Conv1D(filters=128, kernel_size=5, padding=\"same\", activation=\"relu\")(conv3)\n",
    "    conv4 = keras.layers.MaxPooling1D(pool_size=2)(conv4)\n",
    "    \n",
    "    conv5 = keras.layers.Conv1D(filters=128, kernel_size=5, padding=\"same\", activation=\"relu\")(conv4)\n",
    "    conv5 = keras.layers.MaxPooling1D(pool_size=2)(conv5)\n",
    "    conv5 = keras.layers.Dropout(0.5)(conv5)\n",
    "    \n",
    "    conv6 = keras.layers.Conv1D(filters=256, kernel_size=5, padding=\"same\", activation=\"relu\")(conv5)\n",
    "    conv6 = keras.layers.MaxPooling1D(pool_size=2)(conv6)\n",
    "    \n",
    "    conv7 = keras.layers.Conv1D(filters=256, kernel_size=5, padding=\"same\", activation=\"relu\")(conv6)\n",
    "    conv7 = keras.layers.MaxPooling1D(pool_size=2)(conv7)\n",
    "    conv7 = keras.layers.Dropout(0.5)(conv7)\n",
    "    \n",
    "    conv8 = keras.layers.Conv1D(filters=512, kernel_size=5, padding=\"same\", activation=\"relu\")(conv7)\n",
    "    conv8 = keras.layers.MaxPooling1D(pool_size=2)(conv8)\n",
    "    conv8 = keras.layers.Dropout(0.5)(conv8)\n",
    "    \n",
    "    conv9 = keras.layers.Conv1D(filters=512, kernel_size=5, padding=\"same\", activation=\"relu\")(conv8)\n",
    "    \n",
    "    gap = keras.layers.Flatten()(conv9)\n",
    "    dense1 = keras.layers.Dense(64, activation = \"relu\")(gap)\n",
    "    dense2 = keras.layers.Dropout(0.5)(dense1)\n",
    "    dense3 = keras.layers.Dense(32, activation = \"relu\")(dense2)\n",
    "    \n",
    "    output_layer = keras.layers.Dense(1, activation=\"sigmoid\")(dense3)\n",
    "\n",
    "    return keras.models.Model(inputs=input_layer, outputs=output_layer)\n",
    "    \n",
    "    return model"
   ]
  },
  {
   "cell_type": "code",
   "execution_count": 62,
   "metadata": {},
   "outputs": [
    {
     "name": "stdout",
     "output_type": "stream",
     "text": [
      "Epoch 1/10\n",
      "24/24 [==============================] - 44s 2s/step - loss: 0.4878 - accuracy: 0.7793 - val_loss: 0.5307 - val_accuracy: 0.7355\n",
      "Epoch 2/10\n",
      "24/24 [==============================] - 46s 2s/step - loss: 0.4817 - accuracy: 0.7865 - val_loss: 0.5176 - val_accuracy: 0.7524\n",
      "Epoch 3/10\n",
      "24/24 [==============================] - 46s 2s/step - loss: 0.4787 - accuracy: 0.7873 - val_loss: 0.5288 - val_accuracy: 0.7362\n",
      "Epoch 4/10\n",
      "24/24 [==============================] - 45s 2s/step - loss: 0.4814 - accuracy: 0.7875 - val_loss: 0.5249 - val_accuracy: 0.7401\n",
      "Epoch 5/10\n",
      "24/24 [==============================] - 45s 2s/step - loss: 0.4710 - accuracy: 0.7912 - val_loss: 0.5338 - val_accuracy: 0.7394\n",
      "Epoch 6/10\n",
      "24/24 [==============================] - 45s 2s/step - loss: 0.4703 - accuracy: 0.7917 - val_loss: 0.5205 - val_accuracy: 0.7433\n",
      "Epoch 7/10\n",
      "24/24 [==============================] - 46s 2s/step - loss: 0.4731 - accuracy: 0.7920 - val_loss: 0.5701 - val_accuracy: 0.7218\n",
      "Epoch 8/10\n",
      "24/24 [==============================] - 46s 2s/step - loss: 0.4849 - accuracy: 0.7849 - val_loss: 0.5315 - val_accuracy: 0.7336\n",
      "Epoch 9/10\n",
      "24/24 [==============================] - 51s 2s/step - loss: 0.4689 - accuracy: 0.7964 - val_loss: 0.5337 - val_accuracy: 0.7420\n",
      "Epoch 10/10\n",
      "24/24 [==============================] - 49s 2s/step - loss: 0.4642 - accuracy: 0.7933 - val_loss: 0.5280 - val_accuracy: 0.7407\n"
     ]
    }
   ],
   "source": [
    "NUM_EPOCHS = 10\n",
    "BATCH_SIZE = 256\n",
    "VAL_SPLIT = 0.2\n",
    "VERBOSE = 1\n",
    "\n",
    "import time\n",
    "\n",
    "t_start = time.time()\n",
    "\n",
    "# y = X\n",
    "history = model.fit(X_train, y_train, batch_size = BATCH_SIZE, epochs = NUM_EPOCHS, validation_split = VAL_SPLIT, verbose = VERBOSE)"
   ]
  },
  {
   "cell_type": "code",
   "execution_count": 63,
   "metadata": {},
   "outputs": [
    {
     "name": "stdout",
     "output_type": "stream",
     "text": [
      "Model: \"functional_3\"\n",
      "_________________________________________________________________\n",
      "Layer (type)                 Output Shape              Param #   \n",
      "=================================================================\n",
      "input_2 (InputLayer)         [(None, 2000, 1)]         0         \n",
      "_________________________________________________________________\n",
      "conv1d_10 (Conv1D)           (None, 2000, 32)          192       \n",
      "_________________________________________________________________\n",
      "max_pooling1d_9 (MaxPooling1 (None, 1000, 32)          0         \n",
      "_________________________________________________________________\n",
      "conv1d_11 (Conv1D)           (None, 1000, 32)          5152      \n",
      "_________________________________________________________________\n",
      "max_pooling1d_10 (MaxPooling (None, 500, 32)           0         \n",
      "_________________________________________________________________\n",
      "conv1d_12 (Conv1D)           (None, 500, 64)           10304     \n",
      "_________________________________________________________________\n",
      "max_pooling1d_11 (MaxPooling (None, 250, 64)           0         \n",
      "_________________________________________________________________\n",
      "conv1d_13 (Conv1D)           (None, 250, 64)           20544     \n",
      "_________________________________________________________________\n",
      "max_pooling1d_12 (MaxPooling (None, 125, 64)           0         \n",
      "_________________________________________________________________\n",
      "conv1d_14 (Conv1D)           (None, 125, 128)          41088     \n",
      "_________________________________________________________________\n",
      "max_pooling1d_13 (MaxPooling (None, 62, 128)           0         \n",
      "_________________________________________________________________\n",
      "conv1d_15 (Conv1D)           (None, 62, 128)           82048     \n",
      "_________________________________________________________________\n",
      "max_pooling1d_14 (MaxPooling (None, 31, 128)           0         \n",
      "_________________________________________________________________\n",
      "dropout_4 (Dropout)          (None, 31, 128)           0         \n",
      "_________________________________________________________________\n",
      "conv1d_16 (Conv1D)           (None, 31, 256)           164096    \n",
      "_________________________________________________________________\n",
      "max_pooling1d_15 (MaxPooling (None, 15, 256)           0         \n",
      "_________________________________________________________________\n",
      "conv1d_17 (Conv1D)           (None, 15, 256)           327936    \n",
      "_________________________________________________________________\n",
      "max_pooling1d_16 (MaxPooling (None, 7, 256)            0         \n",
      "_________________________________________________________________\n",
      "dropout_5 (Dropout)          (None, 7, 256)            0         \n",
      "_________________________________________________________________\n",
      "conv1d_18 (Conv1D)           (None, 7, 512)            655872    \n",
      "_________________________________________________________________\n",
      "max_pooling1d_17 (MaxPooling (None, 3, 512)            0         \n",
      "_________________________________________________________________\n",
      "dropout_6 (Dropout)          (None, 3, 512)            0         \n",
      "_________________________________________________________________\n",
      "conv1d_19 (Conv1D)           (None, 3, 512)            1311232   \n",
      "_________________________________________________________________\n",
      "flatten_1 (Flatten)          (None, 1536)              0         \n",
      "_________________________________________________________________\n",
      "dense_3 (Dense)              (None, 64)                98368     \n",
      "_________________________________________________________________\n",
      "dropout_7 (Dropout)          (None, 64)                0         \n",
      "_________________________________________________________________\n",
      "dense_4 (Dense)              (None, 32)                2080      \n",
      "_________________________________________________________________\n",
      "dense_5 (Dense)              (None, 1)                 33        \n",
      "=================================================================\n",
      "Total params: 2,718,945\n",
      "Trainable params: 2,718,945\n",
      "Non-trainable params: 0\n",
      "_________________________________________________________________\n"
     ]
    }
   ],
   "source": [
    "seed(1234)\n",
    "tf.random.set_seed(1234)\n",
    "\n",
    "\n",
    "model = build_model(input_shape=(2000, 1))\n",
    "\n",
    "# we need a smaller learning rate to have a smoother convergence\n",
    "# it is really important\n",
    "opt = keras.optimizers.Adam(learning_rate=0.00006)\n",
    "\n",
    "mc = tf.keras.callbacks.ModelCheckpoint(\n",
    "        'ecg5000.h5', monitor='val_loss', verbose=1, save_best_only=True,\n",
    "        save_weights_only=True, mode='min', save_freq='epoch')\n",
    "\n",
    "model.compile(\n",
    "    optimizer=opt,\n",
    "    loss=\"binary_crossentropy\",\n",
    "    metrics=[\"accuracy\"])\n",
    "\n",
    "model.summary()"
   ]
  },
  {
   "cell_type": "code",
   "execution_count": 64,
   "metadata": {},
   "outputs": [
    {
     "data": {
      "image/png": "[encoded data removed]",
      "text/plain": [
       "<Figure size 720x432 with 1 Axes>"
      ]
     },
     "metadata": {
      "needs_background": "light"
     },
     "output_type": "display_data"
    }
   ],
   "source": [
    "# visualize loss for the training\n",
    "plt.figure(figsize = (10,6))\n",
    "hist_loss = history.history['loss']\n",
    "hist_val_loss = history.history['val_loss']\n",
    "\n",
    "plt.plot(hist_loss, label='Training loss')\n",
    "plt.plot(hist_val_loss, label='Validation loss')\n",
    "\n",
    "plt.legend(loc='upper right')\n",
    "plt.xlabel('Epochs')\n",
    "plt.ylabel('Loss')\n",
    "\n",
    "plt.show()"
   ]
  },
  {
   "cell_type": "code",
   "execution_count": 65,
   "metadata": {},
   "outputs": [
    {
     "data": {
      "image/png": "[encoded data removed]",
      "text/plain": [
       "<Figure size 720x432 with 1 Axes>"
      ]
     },
     "metadata": {
      "needs_background": "light"
     },
     "output_type": "display_data"
    }
   ],
   "source": [
    "# visualize accuracy for the training\n",
    "plt.figure(figsize = (10,6))\n",
    "hist_loss = history.history['accuracy']\n",
    "hist_val_loss = history.history['val_accuracy']\n",
    "\n",
    "plt.plot(hist_loss, label='Training accuracy')\n",
    "plt.plot(hist_val_loss, label='Validation accuracy')\n",
    "\n",
    "plt.legend(loc='lower right')\n",
    "plt.xlabel('Epochs')\n",
    "plt.ylabel('Loss')\n",
    "\n",
    "plt.show()"
   ]
  },
  {
   "cell_type": "code",
   "execution_count": 61,
   "metadata": {},
   "outputs": [
    {
     "name": "stdout",
     "output_type": "stream",
     "text": [
      "27/27 [==============================] - 1s 34ms/step - loss: 0.5412 - accuracy: 0.7222\n"
     ]
    }
   ],
   "source": [
    "loss, accuracy = model.evaluate(X_valid, y_valid)\n",
    "\n",
    "\n"
   ]
  },
  {
   "cell_type": "code",
   "execution_count": null,
   "metadata": {},
   "outputs": [],
   "source": [
    "\n",
    "\n",
    "\n"
   ]
  },
  {
   "cell_type": "code",
   "execution_count": null,
   "metadata": {},
   "outputs": [],
   "source": []
  },
  {
   "cell_type": "code",
   "execution_count": null,
   "metadata": {},
   "outputs": [],
   "source": []
  },
  {
   "cell_type": "code",
   "execution_count": null,
   "metadata": {},
   "outputs": [],
   "source": []
  }
 ],
 "metadata": {
  "kernelspec": {
   "display_name": "Python 3",
   "language": "python",
   "name": "python3"
  },
  "language_info": {
   "codemirror_mode": {
    "name": "ipython",
    "version": 3
   },
   "file_extension": ".py",
   "mimetype": "text/x-python",
   "name": "python",
   "nbconvert_exporter": "python",
   "pygments_lexer": "ipython3",
   "version": "3.8.3"
  }
 },
 "nbformat": 4,
 "nbformat_minor": 4
}
